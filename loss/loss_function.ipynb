{
  "nbformat": 4,
  "nbformat_minor": 0,
  "metadata": {
    "colab": {
      "provenance": [],
      "authorship_tag": "ABX9TyOkkVXzDYdrbwlOYw/yXl01",
      "include_colab_link": true
    },
    "kernelspec": {
      "name": "python3",
      "display_name": "Python 3"
    },
    "language_info": {
      "name": "python"
    }
  },
  "cells": [
    {
      "cell_type": "markdown",
      "metadata": {
        "id": "view-in-github",
        "colab_type": "text"
      },
      "source": [
        "<a href=\"https://colab.research.google.com/github/Light896cart/CV/blob/main/loss/loss_function.ipynb\" target=\"_parent\"><img src=\"https://colab.research.google.com/assets/colab-badge.svg\" alt=\"Open In Colab\"/></a>"
      ]
    },
    {
      "cell_type": "code",
      "execution_count": 1,
      "metadata": {
        "id": "ES338g761mYu"
      },
      "outputs": [],
      "source": [
        "import torch.nn as nn\n",
        "import torch\n",
        "from torch.utils.data import Dataset, DataLoader\n",
        "import torch.optim as optim\n",
        "from torchvision import datasets, transforms\n",
        "\n",
        "import matplotlib.pyplot as plt\n"
      ]
    },
    {
      "cell_type": "code",
      "source": [
        "transform = transforms.Compose([\n",
        "    transforms.ToTensor()\n",
        "])"
      ],
      "metadata": {
        "id": "19W6NBg22QIN"
      },
      "execution_count": 3,
      "outputs": []
    },
    {
      "cell_type": "code",
      "source": [
        "# Загрузка тренировочного набора данных\n",
        "train_dataset = datasets.MNIST(root='./data', train=True, download=True, transform=transform)\n",
        "\n",
        "# Задаем размер валидационного набора\n",
        "validation_size = 10000\n",
        "train_size = len(train_dataset) - validation_size\n",
        "\n",
        "# Разделение на тренировочный и валидационный наборы\n",
        "train_dataset, validation_dataset = torch.utils.data.random_split(train_dataset, [train_size, validation_size])\n",
        "\n",
        "# Создание загрузчиков данных (DataLoader)\n",
        "train_loader = DataLoader(dataset=train_dataset, batch_size=64, shuffle=True)\n",
        "validation_loader = DataLoader(dataset=validation_dataset, batch_size=64, shuffle=True)"
      ],
      "metadata": {
        "id": "Czdu-fNf2Byp",
        "colab": {
          "base_uri": "https://localhost:8080/"
        },
        "outputId": "2e8fe05f-1361-414f-f1b5-389a6ac8dcab"
      },
      "execution_count": 4,
      "outputs": [
        {
          "output_type": "stream",
          "name": "stdout",
          "text": [
            "Downloading http://yann.lecun.com/exdb/mnist/train-images-idx3-ubyte.gz\n",
            "Failed to download (trying next):\n",
            "HTTP Error 403: Forbidden\n",
            "\n",
            "Downloading https://ossci-datasets.s3.amazonaws.com/mnist/train-images-idx3-ubyte.gz\n",
            "Downloading https://ossci-datasets.s3.amazonaws.com/mnist/train-images-idx3-ubyte.gz to ./data/MNIST/raw/train-images-idx3-ubyte.gz\n"
          ]
        },
        {
          "output_type": "stream",
          "name": "stderr",
          "text": [
            "100%|██████████| 9.91M/9.91M [00:01<00:00, 5.84MB/s]\n"
          ]
        },
        {
          "output_type": "stream",
          "name": "stdout",
          "text": [
            "Extracting ./data/MNIST/raw/train-images-idx3-ubyte.gz to ./data/MNIST/raw\n",
            "\n",
            "Downloading http://yann.lecun.com/exdb/mnist/train-labels-idx1-ubyte.gz\n",
            "Failed to download (trying next):\n",
            "HTTP Error 403: Forbidden\n",
            "\n",
            "Downloading https://ossci-datasets.s3.amazonaws.com/mnist/train-labels-idx1-ubyte.gz\n",
            "Downloading https://ossci-datasets.s3.amazonaws.com/mnist/train-labels-idx1-ubyte.gz to ./data/MNIST/raw/train-labels-idx1-ubyte.gz\n"
          ]
        },
        {
          "output_type": "stream",
          "name": "stderr",
          "text": [
            "100%|██████████| 28.9k/28.9k [00:00<00:00, 154kB/s]\n"
          ]
        },
        {
          "output_type": "stream",
          "name": "stdout",
          "text": [
            "Extracting ./data/MNIST/raw/train-labels-idx1-ubyte.gz to ./data/MNIST/raw\n",
            "\n",
            "Downloading http://yann.lecun.com/exdb/mnist/t10k-images-idx3-ubyte.gz\n",
            "Failed to download (trying next):\n",
            "HTTP Error 403: Forbidden\n",
            "\n",
            "Downloading https://ossci-datasets.s3.amazonaws.com/mnist/t10k-images-idx3-ubyte.gz\n",
            "Downloading https://ossci-datasets.s3.amazonaws.com/mnist/t10k-images-idx3-ubyte.gz to ./data/MNIST/raw/t10k-images-idx3-ubyte.gz\n"
          ]
        },
        {
          "output_type": "stream",
          "name": "stderr",
          "text": [
            "100%|██████████| 1.65M/1.65M [00:01<00:00, 1.24MB/s]\n"
          ]
        },
        {
          "output_type": "stream",
          "name": "stdout",
          "text": [
            "Extracting ./data/MNIST/raw/t10k-images-idx3-ubyte.gz to ./data/MNIST/raw\n",
            "\n",
            "Downloading http://yann.lecun.com/exdb/mnist/t10k-labels-idx1-ubyte.gz\n",
            "Failed to download (trying next):\n",
            "HTTP Error 403: Forbidden\n",
            "\n",
            "Downloading https://ossci-datasets.s3.amazonaws.com/mnist/t10k-labels-idx1-ubyte.gz\n",
            "Downloading https://ossci-datasets.s3.amazonaws.com/mnist/t10k-labels-idx1-ubyte.gz to ./data/MNIST/raw/t10k-labels-idx1-ubyte.gz\n"
          ]
        },
        {
          "output_type": "stream",
          "name": "stderr",
          "text": [
            "100%|██████████| 4.54k/4.54k [00:00<00:00, 4.42MB/s]"
          ]
        },
        {
          "output_type": "stream",
          "name": "stdout",
          "text": [
            "Extracting ./data/MNIST/raw/t10k-labels-idx1-ubyte.gz to ./data/MNIST/raw\n",
            "\n"
          ]
        },
        {
          "output_type": "stream",
          "name": "stderr",
          "text": [
            "\n"
          ]
        }
      ]
    },
    {
      "cell_type": "code",
      "source": [
        "class Model(nn.Module):\n",
        "  def __init__(self):\n",
        "    super(Model,self).__init__()\n",
        "    self.conv1 = nn.Conv2d(1,16,2)\n",
        "    self.conv2 = nn.Conv2d(16,64,2)\n",
        "    self.flat = nn.Flatten()\n",
        "    self.liner = nn.Linear(43264,10)\n",
        "\n",
        "  def forward(self,x):\n",
        "    x = self.conv1(x)\n",
        "    x = self.conv2(x)\n",
        "    x = self.flat(x)\n",
        "    x = self.liner(x)\n",
        "    # self.len_conv = x.shape[1]\n",
        "    # print(self.len_conv)\n",
        "    # x = self.liner(x)\n",
        "    return x"
      ],
      "metadata": {
        "id": "1kxFuvsJ2NyU"
      },
      "execution_count": 5,
      "outputs": []
    },
    {
      "cell_type": "code",
      "source": [
        "class CustomLoss:\n",
        "    def __init__(self, loss_fn):\n",
        "        self.loss_fn = loss_fn\n",
        "\n",
        "    def __call__(self, *args, **kwargs):\n",
        "        # Вычисляем значение потерь\n",
        "        loss_value = self.loss_fn(*args, **kwargs)\n",
        "        # Возвращаем только значение потерь, если оно не изначально в том же формате\n",
        "        return loss_value"
      ],
      "metadata": {
        "id": "H04UwQ2E2on_"
      },
      "execution_count": 6,
      "outputs": []
    },
    {
      "cell_type": "code",
      "source": [
        "model = Model()\n",
        "print(model)\n",
        "loss_functions = [\n",
        "    nn.CrossEntropyLoss(), # обычно работает с one-hot метками или просто с метками, для предсказание многоклассовой классификации, по скорости быстр, по точности точен когда классы сбалансированы, иначе все плохо\n",
        "    nn.L1Loss(), # по сути тоже самое что и кросс энтропия, но дополнительно имеется коэф фокуса, который помогает при дисбалансе классов, по скрости чуть помедленее своего аналога, про точность уже сказал\n",
        "    nn.MSELoss(), # для задач ригрессии, метки просто числовые значения, скорость зависит от размера данных, но в целом быстрая, по точности...ну это просто квадрат среднего, вроде все очевидно, будет страдать от выбросов\n",
        "    nn.BCELoss(), # для бинарной классификации, работает с метками в диапазоне [0,1] (вероятности), скорость быстрая, точность очень высокая, но может быть чувствительной к дисбалансу\n",
        "    nn.CTCLoss(), # для последовательных данных ,  использует последовательные метки и временные шаги, скорость может быть медленной, эффективна в\n",
        "    nn.NLLLoss(), # преобразует логиты в вероятности, по скорости норм, по точности тоже\n",
        "    nn.PoissonNLLLoss(), # используется для предсказаний числа событий, которые происходят в фиксированном интервале (времени, пространства и т.д.), метки целочисленные значения, скорость быстрая, точность хорошая\n",
        "    nn.GaussianNLLLoss(), # для регрессии, метки непрерывные, быстрая если данные оптимизированы по нормальному распределению, точность хорошая даже при шуме, но при выбросах может страдать\n",
        "    nn.BCEWithLogitsLoss(), # для бинариклассификации, скорость быстрая\n",
        "    nn.MarginRankingLoss(), # для задач ранжирования или парное сравнение, работает с парой значений, скорость быстрая, точность вайбик\n",
        "    nn.HingeEmbeddingLoss(), # для бинарной классификации, работает по принципу SVM (метод опорных векторов), метки в виде -1,1 где -1 один класс, 1 другой, скорость быстрая т.к минимальные вычисления, по точности могу сказать, что в общем то очень качественный, главное чтобы шума не было\n",
        "    nn.MultiLabelMarginLoss(), # Для многометочных задач, где каждый объект может принадлежать более чем одному классу, может быть медленным, но как бы и так очевидно, по точности тоже может страдать, ну так как по сути то и задача трудноватая (ну в общем то используем что имеем)\n",
        "    nn.HuberLoss(), # уменьшаем чуствительность к выбросам в задачах регрессии, скорость быстрая, по точности очень не плоха, так как мы как бы балансируем между L1 и L2 потерями\n",
        "    nn.SmoothL1Loss(), # задачи регрессии где нужна устойчивость к выбросам, скорость быстрая, точность тоже\n",
        "    nn.SoftMarginLoss(), # бинарная классификация, с вероятностями для каждого класса\n",
        "]\n",
        "\n",
        "optimezer = optim.Adam(model.parameters(),lr=0.001)\n",
        "# Создание планировщика изменения learning rate\n",
        "scheduler = optim.lr_scheduler.StepLR(optimezer, step_size=1, gamma=0.1)"
      ],
      "metadata": {
        "colab": {
          "base_uri": "https://localhost:8080/"
        },
        "id": "OqE2AX874QQK",
        "outputId": "ecf4a097-cc44-49ec-f5ab-869b18e14ae0"
      },
      "execution_count": 7,
      "outputs": [
        {
          "output_type": "stream",
          "name": "stdout",
          "text": [
            "Model(\n",
            "  (conv1): Conv2d(1, 16, kernel_size=(2, 2), stride=(1, 1))\n",
            "  (conv2): Conv2d(16, 64, kernel_size=(2, 2), stride=(1, 1))\n",
            "  (flat): Flatten(start_dim=1, end_dim=-1)\n",
            "  (liner): Linear(in_features=43264, out_features=10, bias=True)\n",
            ")\n"
          ]
        }
      ]
    },
    {
      "cell_type": "code",
      "source": [
        "for _ in range(50):\n",
        "  for img,label in train_loader:\n",
        "    optimezer.zero_grad()\n",
        "    output = model(img)\n",
        "    loss = loss_functions[0](output,label)\n",
        "    loss.backward()\n",
        "    optimezer.step()\n",
        "\n",
        "  print(loss.item())\n",
        "  # Шаг изменения learning rate после каждой эпохи\n",
        "  scheduler.step()"
      ],
      "metadata": {
        "colab": {
          "base_uri": "https://localhost:8080/"
        },
        "id": "RacR0vXX5Q4b",
        "outputId": "a1d83b08-aef1-4960-a294-062d6f6f5526"
      },
      "execution_count": 10,
      "outputs": [
        {
          "output_type": "stream",
          "name": "stdout",
          "text": [
            "0.5356679558753967\n",
            "0.08261290192604065\n",
            "0.3424460291862488\n",
            "0.02218451537191868\n",
            "0.19985227286815643\n",
            "0.4374919533729553\n",
            "0.07608864456415176\n",
            "0.4483395516872406\n",
            "0.0833156481385231\n",
            "0.18904350697994232\n",
            "0.12320371717214584\n",
            "0.12794817984104156\n",
            "0.3660920262336731\n",
            "0.07345550507307053\n",
            "0.43335944414138794\n",
            "0.09994571655988693\n",
            "0.11497507244348526\n",
            "0.12099219113588333\n",
            "0.12920840084552765\n",
            "0.05294334143400192\n",
            "0.06413891166448593\n",
            "0.2685222923755646\n",
            "0.10837485641241074\n",
            "0.05615267902612686\n",
            "0.05351794511079788\n",
            "0.18660485744476318\n",
            "0.13310185074806213\n",
            "0.030407583341002464\n",
            "0.07983599603176117\n",
            "0.055437393486499786\n",
            "0.27716436982154846\n",
            "0.03711533546447754\n",
            "0.24101921916007996\n",
            "0.2309560626745224\n",
            "0.12677393853664398\n",
            "0.32469895482063293\n",
            "0.09948055446147919\n",
            "0.20614561438560486\n",
            "1.0267001390457153\n",
            "0.03776263818144798\n",
            "0.2996279299259186\n",
            "0.21179461479187012\n",
            "0.06814678013324738\n",
            "0.1578245609998703\n",
            "0.14189037680625916\n",
            "0.23411627113819122\n",
            "0.17577873170375824\n",
            "0.41047433018684387\n",
            "1.0393054485321045\n",
            "0.3708900809288025\n"
          ]
        }
      ]
    },
    {
      "cell_type": "code",
      "source": [
        "def evaluate_model(model, data_loader):\n",
        "    model.eval()  # Устанавливаем модель в режим оценки\n",
        "    correct = 0\n",
        "    total = 0\n",
        "\n",
        "    with torch.no_grad():  # Отключаем автоматическое вычисление градиентов\n",
        "        for img, label in data_loader:\n",
        "            output = model(img)  # Получаем выход модели\n",
        "            _, predicted = torch.max(output.data, 1)  # Получаем предсказанные классы\n",
        "            total += label.size(0)  # Обновляем общее количество примеров\n",
        "            correct += (predicted == label).sum().item()  # Подсчитываем количество правильных предсказаний\n",
        "\n",
        "    accuracy = correct / total  # Вычисляем точность\n",
        "    return accuracy"
      ],
      "metadata": {
        "id": "-W8uXvEczj2-"
      },
      "execution_count": null,
      "outputs": []
    },
    {
      "cell_type": "code",
      "source": [
        "results = {}\n",
        "\n",
        "for criterion in loss_functions:\n",
        "    optimezer.zero_grad()\n",
        "    spisok = []\n",
        "    for img, label in train_loader:\n",
        "        optimezer.zero_grad()\n",
        "        try:\n",
        "            output = model(img)\n",
        "            loss = criterion(output, label)\n",
        "            loss.backward()\n",
        "            optimezer.step()\n",
        "        except (TypeError, RuntimeError, ValueError) as e:\n",
        "            print(f\"Ошибка: {e}. Прекращение обучения с текущей функцией потерь: {criterion}\")\n",
        "            break\n",
        "        spisok.append(loss.item())  # Исправлено: добавление значения loss\n",
        "    print(loss.item())\n",
        "    # Построение графика после каждой функции потерь\n",
        "    plt.plot(spisok, label=str(criterion))\n",
        "\n",
        "    # Оценка на валидационном наборе\n",
        "    val_accuracy = evaluate_model(model, validation_loader)  # Ваша функция оценки\n",
        "    print(f'{str(criterion)} , {val_accuracy}')\n",
        "    results[str(criterion)] = val_accuracy\n",
        "\n",
        "plt.xlabel('Итерация')\n",
        "plt.ylabel('Значение потерь (loss)')\n",
        "plt.title('График функции потерь')\n",
        "plt.legend()\n",
        "plt.show()  # Показывает все графики после завершения обучения"
      ],
      "metadata": {
        "id": "PcEDR-sC5cnK",
        "colab": {
          "base_uri": "https://localhost:8080/",
          "height": 1000
        },
        "outputId": "8f007767-e3fe-4e34-ac47-cc1f7d808870"
      },
      "execution_count": null,
      "outputs": [
        {
          "output_type": "stream",
          "name": "stdout",
          "text": [
            "Ошибка: Using a target size (torch.Size([64])) that is different to the input size (torch.Size([64, 10])) is deprecated. Please ensure they have the same size.. Прекращение обучения с текущей функцией потерь: BCELoss()\n",
            "-78257232.0\n",
            "BCELoss() , 0.1125\n",
            "1736.5\n",
            "CrossEntropyLoss() , 0.8366\n",
            "Ошибка: The size of tensor a (10) must match the size of tensor b (64) at non-singleton dimension 1. Прекращение обучения с текущей функцией потерь: L1Loss()\n",
            "1736.5\n"
          ]
        },
        {
          "output_type": "stream",
          "name": "stderr",
          "text": [
            "/usr/local/lib/python3.10/dist-packages/torch/nn/modules/loss.py:128: UserWarning: Using a target size (torch.Size([64])) that is different to the input size (torch.Size([64, 10])). This will likely lead to incorrect results due to broadcasting. Please ensure they have the same size.\n",
            "  return F.l1_loss(input, target, reduction=self.reduction)\n"
          ]
        },
        {
          "output_type": "stream",
          "name": "stdout",
          "text": [
            "L1Loss() , 0.8366\n",
            "Ошибка: The size of tensor a (10) must match the size of tensor b (64) at non-singleton dimension 1. Прекращение обучения с текущей функцией потерь: MSELoss()\n",
            "1736.5\n"
          ]
        },
        {
          "output_type": "stream",
          "name": "stderr",
          "text": [
            "/usr/local/lib/python3.10/dist-packages/torch/nn/modules/loss.py:608: UserWarning: Using a target size (torch.Size([64])) that is different to the input size (torch.Size([64, 10])). This will likely lead to incorrect results due to broadcasting. Please ensure they have the same size.\n",
            "  return F.mse_loss(input, target, reduction=self.reduction)\n"
          ]
        },
        {
          "output_type": "stream",
          "name": "stdout",
          "text": [
            "MSELoss() , 0.8366\n",
            "Ошибка: CTCLoss.forward() missing 2 required positional arguments: 'input_lengths' and 'target_lengths'. Прекращение обучения с текущей функцией потерь: CTCLoss()\n",
            "1736.5\n",
            "CTCLoss() , 0.8366\n",
            "-332231040.0\n",
            "NLLLoss() , 0.1263\n",
            "Ошибка: The size of tensor a (64) must match the size of tensor b (10) at non-singleton dimension 1. Прекращение обучения с текущей функцией потерь: PoissonNLLLoss()\n",
            "-332231040.0\n",
            "PoissonNLLLoss() , 0.1263\n",
            "Ошибка: GaussianNLLLoss.forward() missing 1 required positional argument: 'var'. Прекращение обучения с текущей функцией потерь: GaussianNLLLoss()\n",
            "-332231040.0\n",
            "GaussianNLLLoss() , 0.1263\n",
            "Ошибка: kl_div: Integral inputs not supported.. Прекращение обучения с текущей функцией потерь: KLDivLoss()\n",
            "-332231040.0\n"
          ]
        },
        {
          "output_type": "stream",
          "name": "stderr",
          "text": [
            "/usr/local/lib/python3.10/dist-packages/torch/nn/functional.py:3369: UserWarning: reduction: 'mean' divides the total loss by both the batch size and the support size.'batchmean' divides only by the batch size, and aligns with the KL div math definition.'mean' will be changed to behave the same as 'batchmean' in the next major release.\n",
            "  warnings.warn(\n"
          ]
        },
        {
          "output_type": "stream",
          "name": "stdout",
          "text": [
            "KLDivLoss() , 0.1263\n",
            "Ошибка: Target size (torch.Size([64])) must be the same as input size (torch.Size([64, 10])). Прекращение обучения с текущей функцией потерь: BCEWithLogitsLoss()\n",
            "-332231040.0\n",
            "BCEWithLogitsLoss() , 0.1263\n",
            "Ошибка: MarginRankingLoss.forward() missing 1 required positional argument: 'target'. Прекращение обучения с текущей функцией потерь: MarginRankingLoss()\n",
            "-332231040.0\n",
            "MarginRankingLoss() , 0.1263\n",
            "Ошибка: The size of tensor a (64) must match the size of tensor b (10) at non-singleton dimension 1. Прекращение обучения с текущей функцией потерь: HingeEmbeddingLoss()\n",
            "-332231040.0\n",
            "HingeEmbeddingLoss() , 0.1263\n",
            "Ошибка: inconsistent target size: [64] for input of size: [64, 10]. Прекращение обучения с текущей функцией потерь: MultiLabelMarginLoss()\n",
            "-332231040.0\n",
            "MultiLabelMarginLoss() , 0.1263\n",
            "Ошибка: The size of tensor a (10) must match the size of tensor b (64) at non-singleton dimension 1. Прекращение обучения с текущей функцией потерь: HuberLoss()\n",
            "-332231040.0\n"
          ]
        },
        {
          "output_type": "stream",
          "name": "stderr",
          "text": [
            "/usr/local/lib/python3.10/dist-packages/torch/nn/modules/loss.py:1100: UserWarning: Using a target size (torch.Size([64])) that is different to the input size (torch.Size([64, 10])). This will likely lead to incorrect results due to broadcasting. Please ensure they have the same size.\n",
            "  return F.huber_loss(input, target, reduction=self.reduction, delta=self.delta)\n"
          ]
        },
        {
          "output_type": "stream",
          "name": "stdout",
          "text": [
            "HuberLoss() , 0.1263\n",
            "Ошибка: The size of tensor a (10) must match the size of tensor b (64) at non-singleton dimension 1. Прекращение обучения с текущей функцией потерь: SmoothL1Loss()\n",
            "-332231040.0\n"
          ]
        },
        {
          "output_type": "stream",
          "name": "stderr",
          "text": [
            "/usr/local/lib/python3.10/dist-packages/torch/nn/modules/loss.py:1040: UserWarning: Using a target size (torch.Size([64])) that is different to the input size (torch.Size([64, 10])). This will likely lead to incorrect results due to broadcasting. Please ensure they have the same size.\n",
            "  return F.smooth_l1_loss(input, target, reduction=self.reduction, beta=self.beta)\n"
          ]
        },
        {
          "output_type": "stream",
          "name": "stdout",
          "text": [
            "SmoothL1Loss() , 0.1263\n",
            "Ошибка: The size of tensor a (10) must match the size of tensor b (64) at non-singleton dimension 1. Прекращение обучения с текущей функцией потерь: SoftMarginLoss()\n",
            "-332231040.0\n",
            "SoftMarginLoss() , 0.1263\n",
            "Ошибка: The size of tensor a (64) must match the size of tensor b (10) at non-singleton dimension 1. Прекращение обучения с текущей функцией потерь: MultiLabelSoftMarginLoss()\n",
            "-332231040.0\n",
            "MultiLabelSoftMarginLoss() , 0.1263\n"
          ]
        },
        {
          "output_type": "display_data",
          "data": {
            "text/plain": [
              "<Figure size 640x480 with 1 Axes>"
            ],
            "image/png": "[encoded data removed]"
          },
          "metadata": {}
        }
      ]
    },
    {
      "cell_type": "code",
      "source": [],
      "metadata": {
        "id": "gUQUdsyE7w0X"
      },
      "execution_count": null,
      "outputs": []
    }
  ]
}